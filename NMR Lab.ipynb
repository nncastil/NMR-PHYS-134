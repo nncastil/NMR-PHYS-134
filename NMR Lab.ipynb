{
 "cells": [
  {
   "cell_type": "code",
   "execution_count": 2,
   "metadata": {},
   "outputs": [],
   "source": [
    "##Experiment 1: Free Induction Decay\n",
    "    # FID is the magnetization created from a 90 deg pulse, therefore we want to find \n",
    "    # the magnetic field gradient (1/B)(dB/dx) --> find time constant tau with A_o and A(1/2)\n",
    "    # A(1/2)=A_o*e^(-t/tau) where t is the delay time and A_o is MAX amplitude?"
   ]
  },
  {
   "cell_type": "code",
   "execution_count": 109,
   "metadata": {},
   "outputs": [],
   "source": [
    "%matplotlib inline\n",
    "import numpy as np\n",
    "import matplotlib.pyplot as plt\n",
    "import scipy.special as sp\n",
    "import scipy.optimize\n",
    "import scipy.stats as stat"
   ]
  },
  {
   "cell_type": "code",
   "execution_count": 120,
   "metadata": {},
   "outputs": [
    {
     "name": "stdout",
     "output_type": "stream",
     "text": [
      "magnetic field gradient: [2.97473676 1.48736838 0.99157892 0.74368419 0.59494735 0.49578946\n",
      " 0.42496239 0.37184209 0.33052631 0.29747368 0.27043061 0.24789473\n",
      " 0.2288259  0.2124812  0.19831578 0.18592105 0.17498452 0.16526315\n",
      " 0.15656509 0.14873684 0.14165413]\n",
      "decay time constant: [ 0.69314718  1.38629436  2.07944154  2.77258872  3.4657359   4.15888308\n",
      "  4.85203026  5.54517744  6.23832463  6.93147181  7.62461899  8.31776617\n",
      "  9.01091335  9.70406053 10.39720771 11.09035489 11.78350207 12.47664925\n",
      " 13.16979643 13.86294361 14.55609079]\n"
     ]
    },
    {
     "data": {
      "text/plain": [
       "Text(0, 0.5, 'B gradient')"
      ]
     },
     "execution_count": 120,
     "metadata": {},
     "output_type": "execute_result"
    },
    {
     "data": {
      "image/png": "[encoded data removed]",
      "text/plain": [
       "<Figure size 432x288 with 1 Axes>"
      ]
     },
     "metadata": {
      "needs_background": "light"
     },
     "output_type": "display_data"
    }
   ],
   "source": [
    "t = np.array([1, 2, 3, 4, 5, 6, 7, 8, 9, 10, 11, 12, 13, 14, 15, 16, 17, 18, 19, 20, 21]) #in ms\n",
    "\n",
    "A_o = np.array([1.42, 1.32, 1.22, 1.12, 1.04, 0.96, 0.88, 0.78, 0.72, 0.64, 0.58, 0.50, 0.44,\n",
    "      0.40, 0.34, 0.28, 0.22, 0.18, 0.12, 0.08, 0.06]) #Volts\n",
    "\n",
    "# at t=0, A_o = 1.52\n",
    "\n",
    "w = 2*np.pi*(15.43747) #MHz\n",
    "\n",
    "x = (0.005) #converted mm to m\n",
    "\n",
    "# to find (1/B)(dB/dx). why do we need A_o?\n",
    "\n",
    "A_half = (1/2)*A_o\n",
    "\n",
    "# rearrange equation from above for tau\n",
    "\n",
    "tau = np.log(1/2)*(-t)\n",
    "\n",
    "gradient = 1/(w*x*tau) # w=angular freq, t=decay time, x=sample size,\n",
    "                    # the units become 1/(MHz*m*ms)\n",
    "\n",
    "print(\"magnetic field gradient:\", gradient)\n",
    "print(\"decay time constant:\", tau)\n",
    "\n",
    "\n",
    "#plt.plot(t, A_o)\n",
    "plt.scatter(t, gradient, marker='.')\n",
    "plt.xlabel(\"decay time (ms)\")\n",
    "plt.ylabel(\"B gradient\")\n"
   ]
  },
  {
   "cell_type": "code",
   "execution_count": 50,
   "metadata": {},
   "outputs": [],
   "source": [
    "# this agrees with the lab: \"the signal will diminish quickly with time,\n",
    "# owing to the dephasing arising ffrom the magnetic field inhomogeneities\"\n",
    "\n",
    "#error analysis l8r"
   ]
  },
  {
   "cell_type": "code",
   "execution_count": 119,
   "metadata": {},
   "outputs": [
    {
     "data": {
      "text/plain": [
       "Text(0, 0.5, 'Amplitude (V)')"
      ]
     },
     "execution_count": 119,
     "metadata": {},
     "output_type": "execute_result"
    },
    {
     "data": {
      "image/png": "[encoded data removed]",
      "text/plain": [
       "<Figure size 432x288 with 1 Axes>"
      ]
     },
     "metadata": {
      "needs_background": "light"
     },
     "output_type": "display_data"
    }
   ],
   "source": [
    "##Experiment 2: Spin-Lattice Relaxation Time (T_1)\n",
    "    #T_1 is \"the time that is takes for the spins to adjust to their new magnetic environment\"\n",
    "    \n",
    "A_o = 1.36 #Volts, for freq = 15.44736 MHz\n",
    "\n",
    "t = np.array([1, 2, 3, 4, 5, 6, 7, 8, 9, 10, 11, 12, 13, 14, 15, 16,\n",
    "              17, 18, 19, 20, 21, 25, 30, 40, 50, 60, 70, 80, 90, 100]) #ms\n",
    "\n",
    "A = np.array([1.28, 1.20, 1.12, 1.04, 0.96, 0.88, 0.80, 0.72, 0.64, 0.56, 0.48, 0.48, 0.40,\n",
    "             0.32, 0.32, 0.24, 0.16, 0.16, 0.08, 0.08, 0.24, 0.40, 0.48, 0.64, 0.80, 0.96,\n",
    "             1.12, 1.20, 1.28, 1.36])\n",
    "\n",
    "# T_1 must fit for the eq. A(t)= A_o*np.abs(2*exp(-t/T_1)-1)\n",
    "\n",
    "# T_1 = 1/(np.log(np.abs(A/A_o)*(1/2) + 1) * -t)\n",
    "\n",
    "#plt.subplot(1, 2, 1)\n",
    "plt.plot(t, A, marker='.')\n",
    "plt.xlabel(\"delay time (ms)\")\n",
    "plt.ylabel(\"Amplitude (V)\")\n",
    "\n",
    "#plt.subplot(1, 2, 2)\n",
    "#plt.plot(t, T_1, marker='.')\n",
    "#plt.xlabel(\"delay time (ms)\")\n",
    "#plt.ylabel(\"Spin-Relaxation Time (T_1)\")\n",
    "\n",
    "# blue is amplitude, orange is T_1 wrt t"
   ]
  },
  {
   "cell_type": "code",
   "execution_count": 118,
   "metadata": {},
   "outputs": [
    {
     "data": {
      "text/plain": [
       "([<matplotlib.axis.XTick at 0x7ff1451884d0>,\n",
       "  <matplotlib.axis.XTick at 0x7ff145189a10>,\n",
       "  <matplotlib.axis.XTick at 0x7ff145189bd0>,\n",
       "  <matplotlib.axis.XTick at 0x7ff14513f350>,\n",
       "  <matplotlib.axis.XTick at 0x7ff14513f910>,\n",
       "  <matplotlib.axis.XTick at 0x7ff14513fe90>,\n",
       "  <matplotlib.axis.XTick at 0x7ff145143590>,\n",
       "  <matplotlib.axis.XTick at 0x7ff145143bd0>,\n",
       "  <matplotlib.axis.XTick at 0x7ff14514b250>,\n",
       "  <matplotlib.axis.XTick at 0x7ff145143cd0>,\n",
       "  <matplotlib.axis.XTick at 0x7ff14514b090>,\n",
       "  <matplotlib.axis.XTick at 0x7ff14514bb50>],\n",
       " <a list of 12 Text xticklabel objects>)"
      ]
     },
     "execution_count": 118,
     "metadata": {},
     "output_type": "execute_result"
    },
    {
     "data": {
      "image/png": "[encoded data removed]",
      "text/plain": [
       "<Figure size 432x288 with 1 Axes>"
      ]
     },
     "metadata": {
      "needs_background": "light"
     },
     "output_type": "display_data"
    }
   ],
   "source": [
    "## Experiment 3: Spin-Spin Relaxation Time (T_2)\n",
    "    # T_2 is \"the time that it would have dissipated in a perfectly homogenous [B] field\"\n",
    "    \n",
    "    # Hahn Method\n",
    "t_half = np.array([1, 2, 3, 4, 5, 6, 7, 8, 9, 10, 15, 20 ]) # ms\n",
    "\n",
    "Amp = np.array([2.76, 2.32, 2.84, 1.64, 1.24, 1.16, 0.800, 0.800, 0.720, 0.800, 0.960, 0.640]) #Volts\n",
    "\n",
    "plt.scatter(t_half, Amp)\n",
    "plt.xticks(t_half)\n"
   ]
  },
  {
   "cell_type": "code",
   "execution_count": 90,
   "metadata": {},
   "outputs": [
    {
     "data": {
      "text/plain": [
       "(0, 2)"
      ]
     },
     "execution_count": 90,
     "metadata": {},
     "output_type": "execute_result"
    },
    {
     "data": {
      "image/png": "[encoded data removed]",
      "text/plain": [
       "<Figure size 432x288 with 1 Axes>"
      ]
     },
     "metadata": {
      "needs_background": "light"
     },
     "output_type": "display_data"
    }
   ],
   "source": [
    "    # Carr-Purcell Method\n",
    "t = np.array([2.020, 4.020, 6.020, 8.020, 10.00, 12.04, 14.02, 16.00, 18.02, 20.02]) #ms\n",
    "\n",
    "echo_1 = np.array([1.92, 1.68, 1.58, 1.44, 1.20, 1.08, 1.08, 0.920, 0.920, 0.840]) #Volts\n",
    "\n",
    "echo_2 = np.array([1.62, 1.32, 1.16, 1.00, 0.800, 0.740, 0.600, 0.540, 0.480, 0.420])\n",
    "\n",
    "double_t = np.array([4.020, 8.020, 12.020, 16.020, 20.00, 24.02, 28.00, 32.02, 36.02, 40.02])\n",
    "\n",
    "\n",
    "plt.scatter(t, echo_1, marker='.')\n",
    "plt.scatter(double_t, echo_2, marker='.')\n",
    "plt.xlim(0,45)\n",
    "plt.ylim(0,2)\n"
   ]
  },
  {
   "cell_type": "code",
   "execution_count": 100,
   "metadata": {},
   "outputs": [
    {
     "data": {
      "text/plain": [
       "(0, 2)"
      ]
     },
     "execution_count": 100,
     "metadata": {},
     "output_type": "execute_result"
    },
    {
     "data": {
      "image/png": "[encoded data removed]",
      "text/plain": [
       "<Figure size 432x288 with 1 Axes>"
      ]
     },
     "metadata": {
      "needs_background": "light"
     },
     "output_type": "display_data"
    }
   ],
   "source": [
    "    # Meiboom-Gill Method\n",
    "t = np.array([2.020, 4.020, 6.020, 8.020, 10.00, 12.02, 14.02, 16.02, 18.02, 20.02])\n",
    "\n",
    "double_t = np.array([4.020, 8.020, 12.020, 16.020, 20.00, 24.02, 28.00, 32.02, 36.04, 40.02])\n",
    "\n",
    "echo_1 = np.array([1.90, 1.72, 1.56, 1.44, 1.16, 1.20, 1.08, 0.980, 0.900, 0.820])\n",
    "\n",
    "echo_2 = np.array([1.78, 1.48, 1.26, 1.06, 0.840, 0.800, 0.640, 0.600, 0.480, 0.460])\n",
    "\n",
    "\n",
    "plt.scatter(t, echo_1, marker='.')\n",
    "plt.scatter(double_t, echo_2, marker='.')\n",
    "plt.xlim(0,45)\n",
    "plt.ylim(0,2)"
   ]
  },
  {
   "cell_type": "code",
   "execution_count": 112,
   "metadata": {},
   "outputs": [],
   "source": [
    "# for errors:\n",
    "# https://stackoverflow.com/questions/3433486/how-to-do-exponential-and-logarithmic-curve-fitting-in-python-i-found-only-poly"
   ]
  },
  {
   "cell_type": "code",
   "execution_count": null,
   "metadata": {},
   "outputs": [],
   "source": []
  }
 ],
 "metadata": {
  "kernelspec": {
   "display_name": "Python 3",
   "language": "python",
   "name": "python3"
  },
  "language_info": {
   "codemirror_mode": {
    "name": "ipython",
    "version": 3
   },
   "file_extension": ".py",
   "mimetype": "text/x-python",
   "name": "python",
   "nbconvert_exporter": "python",
   "pygments_lexer": "ipython3",
   "version": "3.7.6"
  }
 },
 "nbformat": 4,
 "nbformat_minor": 4
}
