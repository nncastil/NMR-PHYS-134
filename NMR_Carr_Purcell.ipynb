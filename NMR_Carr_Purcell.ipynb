{
  "nbformat": 4,
  "nbformat_minor": 0,
  "metadata": {
    "colab": {
      "name": "NMR_Carr-Purcell.ipynb",
      "provenance": [],
      "collapsed_sections": []
    },
    "kernelspec": {
      "name": "python3",
      "display_name": "Python 3"
    },
    "language_info": {
      "name": "python"
    }
  },
  "cells": [
    {
      "cell_type": "code",
      "execution_count": null,
      "metadata": {
        "colab": {
          "base_uri": "https://localhost:8080/",
          "height": 664
        },
        "id": "UrwmsCHBP1Lb",
        "outputId": "ce0ee2e6-b17a-4e75-a89a-d8cd27f9476b"
      },
      "outputs": [
        {
          "output_type": "stream",
          "name": "stderr",
          "text": [
            "/usr/local/lib/python3.7/dist-packages/ipykernel_launcher.py:27: UserWarning: Legend does not support 'A' instances.\n",
            "A proxy artist may be used instead.\n",
            "See: http://matplotlib.org/users/legend_guide.html#creating-artists-specifically-for-adding-to-the-legend-aka-proxy-artists\n",
            "/usr/local/lib/python3.7/dist-packages/ipykernel_launcher.py:27: UserWarning: Legend does not support '(' instances.\n",
            "A proxy artist may be used instead.\n",
            "See: http://matplotlib.org/users/legend_guide.html#creating-artists-specifically-for-adding-to-the-legend-aka-proxy-artists\n",
            "/usr/local/lib/python3.7/dist-packages/ipykernel_launcher.py:27: UserWarning: Legend does not support 't' instances.\n",
            "A proxy artist may be used instead.\n",
            "See: http://matplotlib.org/users/legend_guide.html#creating-artists-specifically-for-adding-to-the-legend-aka-proxy-artists\n",
            "/usr/local/lib/python3.7/dist-packages/ipykernel_launcher.py:27: UserWarning: Legend does not support ')' instances.\n",
            "A proxy artist may be used instead.\n",
            "See: http://matplotlib.org/users/legend_guide.html#creating-artists-specifically-for-adding-to-the-legend-aka-proxy-artists\n",
            "/usr/local/lib/python3.7/dist-packages/ipykernel_launcher.py:27: UserWarning: Legend does not support ' ' instances.\n",
            "A proxy artist may be used instead.\n",
            "See: http://matplotlib.org/users/legend_guide.html#creating-artists-specifically-for-adding-to-the-legend-aka-proxy-artists\n",
            "/usr/local/lib/python3.7/dist-packages/ipykernel_launcher.py:27: UserWarning: Legend does not support 'v' instances.\n",
            "A proxy artist may be used instead.\n",
            "See: http://matplotlib.org/users/legend_guide.html#creating-artists-specifically-for-adding-to-the-legend-aka-proxy-artists\n",
            "/usr/local/lib/python3.7/dist-packages/ipykernel_launcher.py:27: UserWarning: Legend does not support 's' instances.\n",
            "A proxy artist may be used instead.\n",
            "See: http://matplotlib.org/users/legend_guide.html#creating-artists-specifically-for-adding-to-the-legend-aka-proxy-artists\n"
          ]
        },
        {
          "output_type": "display_data",
          "data": {
            "image/png": "[encoded data removed]",
            "text/plain": [
              "<Figure size 432x288 with 1 Axes>"
            ]
          },
          "metadata": {
            "needs_background": "light"
          }
        }
      ],
      "source": [
        "import matplotlib.pyplot as plt\n",
        " \n",
        "# x-axis values \n",
        "x = [2.020,4.020,6.020,8.020,10.00,12.04,14.02,16.00,18.02,20.02]\n",
        "# y-axis values \n",
        "y = [1.92,1.68,1.58,1.44,1.20,1.08,1.08,0.920,0.920,0.840]\n",
        "\n",
        "# 2t\n",
        "x_2 = [4.020,8.020,12.02,16.02,20.00,24.02,28.00,32.02,36.02,40.02]\n",
        "# A(2t)\n",
        "y_2 = [1.62,1.32,1.16,1.00,0.800,0.740,0.600,0.540,0.480,0.420]\n",
        " \n",
        "# plotting points as a scatter plot\n",
        "plt.scatter(x, y, color= \"black\",\n",
        "            marker= \"o\", s=15)\n",
        "plt.scatter(x_2,y_2, color = \"blue\", marker = \"*\", s=80)\n",
        " \n",
        "# x-axis label\n",
        "plt.xlabel('Delay Time t (ms)', fontsize=13)\n",
        "# y-axis label\n",
        "plt.ylabel('Amplitude A(t) (V)', fontsize=13)\n",
        "\n",
        "\n",
        "# plot title\n",
        "plt.title('A(t) vs t and A(2t) vs 2t', fontsize = 14)\n",
        "\n",
        "plt.legend(\"A(t) vs t\", \"A(2t) vs 2t\")\n",
        "\n",
        "#How to make legend show?\n",
        " \n",
        "# function to show the plot\n",
        "plt.show(x,y)\n",
        "plt.show(x_2,y_2)\n"
      ]
    }
  ]
}